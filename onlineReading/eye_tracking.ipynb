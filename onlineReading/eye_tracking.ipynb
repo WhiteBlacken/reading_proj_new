{
 "cells": [
  {
   "cell_type": "code",
   "execution_count": null,
   "metadata": {},
   "outputs": [],
   "source": [
    "127.0.0.1:50020"
   ]
  },
  {
   "cell_type": "code",
   "execution_count": null,
   "metadata": {},
   "outputs": [],
   "source": [
    "# start camera\n",
    "!sudo /Applications/Pupil\\ Service.app/Contents/MacOS/pupil_service"
   ]
  }
 ],
 "metadata": {
  "language_info": {
   "name": "python"
  }
 },
 "nbformat": 4,
 "nbformat_minor": 2
}
